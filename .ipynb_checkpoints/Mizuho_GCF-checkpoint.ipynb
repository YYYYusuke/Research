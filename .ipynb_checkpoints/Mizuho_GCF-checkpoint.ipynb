{
 "cells": [
  {
   "cell_type": "markdown",
   "metadata": {},
   "source": [
    "# 藤井工機"
   ]
  },
  {
   "cell_type": "code",
   "execution_count": 99,
   "metadata": {
    "collapsed": true
   },
   "outputs": [],
   "source": [
    "import numpy as np\n",
    "\n",
    "Year=np.array([2002, 2003, 2004, 2005, 2006])"
   ]
  },
  {
   "cell_type": "markdown",
   "metadata": {},
   "source": [
    "# 流動比率(資金調達の安全性)"
   ]
  },
  {
   "cell_type": "code",
   "execution_count": 100,
   "metadata": {
    "collapsed": false
   },
   "outputs": [
    {
     "data": {
      "text/plain": [
       "array([ 195.82120423,  201.95090967,  195.40548995,  178.52399002,\n",
       "        167.02938282])"
      ]
     },
     "execution_count": 100,
     "metadata": {},
     "output_type": "execute_result"
    }
   ],
   "source": [
    "#流動比率(資金調達の安全性)\n",
    "Ryudou_shisan=np.array([51125, 44512, 49973, 55105, 59404])\n",
    "Ryudou_fusai=np.array([26108, 22041, 25574, 30867, 35565])\n",
    "Genka_Shukyakuhi=np.array([1720, 1631, 1514, 1534, 1537])\n",
    "Ryudou_hiritsu=(Ryudou_shisan/Ryudou_fusai)*100\n",
    "Ryudou_hiritsu"
   ]
  },
  {
   "cell_type": "code",
   "execution_count": 97,
   "metadata": {
    "collapsed": false
   },
   "outputs": [
    {
     "name": "stdout",
     "output_type": "stream",
     "text": [
      "現在自己資本比率: [ 41.46534182  43.49951936  43.59113401  44.57334281  43.29776835]\n",
      "将来の自己資本比率: [ 41.55199273  43.59336267  43.68041912  44.65796783  43.38010602]\n"
     ]
    }
   ],
   "source": [
    "#自己資本比率\n",
    "Jikoshihon_hiritsu=Jiko_shihon/Sou_Shisan*100\n",
    "print(\"現在自己資本比率:\", Jikoshihon_hiritsu)\n",
    "print(\"将来の自己資本比率:\", (Jiko_shihon+100)/(Sou_Shisan+48)*100 ) #PublicOfferingと銀行借り入れの影響"
   ]
  },
  {
   "cell_type": "code",
   "execution_count": 56,
   "metadata": {
    "collapsed": false
   },
   "outputs": [
    {
     "data": {
      "text/plain": [
       "array([ 19.45703669,  26.53568954,   8.80705775,   7.0961193 ,   8.26182965])"
      ]
     },
     "execution_count": 56,
     "metadata": {},
     "output_type": "execute_result"
    }
   ],
   "source": [
    "#償還年数:借金は何年で返済できるか\n",
    "#要償還債務の償還年数\n",
    "\n",
    "EBITDA=Eigyou_Rieki+Genka_Shukyakuhi\n",
    "Genyokin=np.array([12188, 9319, 11498, 11960, 12622])\n",
    "Kariire=np.array([27545, 23159, 23725, 22321, 23397])#よろず，いなほ，愛知，しゃちほこ，機械工業\n",
    "(Yurishi_Fusai_zandaka-Genyokin)/EBITDA"
   ]
  },
  {
   "cell_type": "code",
   "execution_count": 93,
   "metadata": {
    "collapsed": false
   },
   "outputs": [
    {
     "name": "stdout",
     "output_type": "stream",
     "text": [
      "借入債務: [16908 15192 16740 18958 19851]\n",
      "運転資金: [21116 19100 20832 23293 26114]\n",
      "現預金: [12188  9319 11498 11960 12622]\n",
      "FreeCashFlow: [1698  562 3968 5047 2494]\n",
      "余剰資金 [ -7230  -9219  -5366  -6286 -10998]\n"
     ]
    }
   ],
   "source": [
    "#投資体力\n",
    "\n",
    "UriageSaiken=np.array([9408+18398, 8609+16775, 9269+18262, 10446+20118, 10992+21382])\n",
    "Tanaoroshi=np.array([10218, 8908, 10041, 11687, 13591])\n",
    "Karire_Saimu=np.array([12405+4503, 11204+3988, 12313+4427, 13851+5107, 14519+5332])\n",
    "Untenshikin=UriageSaiken+Tanaoroshi-Karire_Saimu\n",
    "\n",
    "Free_Cash_Flow=np.array([-22, -1069, 2454, 3513, 957])+Genka_Shukyakuhi\n",
    "\n",
    "print(\"借入債務:\", Karire_Saimu)\n",
    "print(\"運転資金:\", Untenshikin)\n",
    "print(\"現預金:\", Genyokin)\n",
    "print(\"FreeCashFlow:\", Free_Cash_Flow)\n",
    "print(\"余剰資金\", Genyokin-Untenshikin+Free_Cash_Flow)\n",
    "\n",
    "#短期の借り入れで回してる\n",
    "#業界平均と比べて，自己資本比率をこれ以上下げるのでは厳しいのでは=>銀行からの借入ではなく，PublicOfferingの必要性\n",
    "#48億円の買収を検討(事業スワップ)\n",
    "#Free_Cash_Flow は伸びる可能性があるか\n",
    "#不動産30億円"
   ]
  },
  {
   "cell_type": "code",
   "execution_count": 95,
   "metadata": {
    "collapsed": false
   },
   "outputs": [
    {
     "name": "stdout",
     "output_type": "stream",
     "text": [
      "平均Free_Cash_Flow 2753.8\n"
     ]
    }
   ],
   "source": [
    "print(\"平均Free_Cash_Flow\", np.mean(Free_Cash_Flow))\n"
   ]
  },
  {
   "cell_type": "code",
   "execution_count": 98,
   "metadata": {
    "collapsed": false
   },
   "outputs": [
    {
     "name": "stdout",
     "output_type": "stream",
     "text": [
      "Public 0ffering金額: [  7100.   7000.   8100.   9040.  10880.]\n"
     ]
    }
   ],
   "source": [
    "#Public Offering 可能性\n",
    "Kabuka=np.array([394, 389, 450, 502, 604])\n",
    "Jika_sougaku=np.array([35500, 35000, 40500, 45200, 54400])\n",
    "print(\"Public 0ffering金額:\", Jika_sougaku*0.2)\n"
   ]
  },
  {
   "cell_type": "code",
   "execution_count": null,
   "metadata": {
    "collapsed": true
   },
   "outputs": [],
   "source": [
    "#将来コスト予測\n",
    "\n",
    "#13億円のコストカットが見込める\n",
    "#売り上げがは1.5倍になる可能性がある\n",
    "#プラス海外の需要の増加が考えられる\n"
   ]
  },
  {
   "cell_type": "markdown",
   "metadata": {},
   "source": [
    "# 収益性分析"
   ]
  },
  {
   "cell_type": "code",
   "execution_count": 57,
   "metadata": {
    "collapsed": false
   },
   "outputs": [
    {
     "data": {
      "text/plain": [
       "array([ 0.4794995 , -0.21480365,  3.22642597,  4.3505892 ,  3.68336765])"
      ]
     },
     "execution_count": 57,
     "metadata": {},
     "output_type": "execute_result"
    }
   ],
   "source": [
    "#Return on Assets(総資産利益率): 投下総資産に対するリターン\n",
    "\n",
    "Eigyou_Rieki=np.array([433, -188, 2850, 4032, 3535])\n",
    "Uketori_risoku=np.array([10, 7, 6, 7, 7])\n",
    "JigyouYou_shisan=np.array([41263, 39751, 38546, 37733, 36758])\n",
    "Kinyu_shisan=np.array([51125, 44512, 49973, 55105, 59404])\n",
    "\n",
    "ROA=(Eigyou_Rieki+Uketori_risoku)/(JigyouYou_shisan+Kinyu_shisan)*100\n",
    "ROA"
   ]
  },
  {
   "cell_type": "code",
   "execution_count": 58,
   "metadata": {
    "collapsed": false
   },
   "outputs": [
    {
     "data": {
      "text/plain": [
       "array([-0.05742776, -2.91646205,  6.35981962,  8.48940335,  2.29849169])"
      ]
     },
     "execution_count": 58,
     "metadata": {},
     "output_type": "execute_result"
    }
   ],
   "source": [
    "#Retrun on Equitiy: 自己資本に対するリターン\n",
    "\n",
    "Touki_rieki=np.array([-22, -1069, 2454, 3513, 957])\n",
    "Jiko_shihon=np.array([38309, 36654, 38586, 41381, 41636 ])\n",
    "\n",
    "ROE=Touki_rieki/Jiko_shihon*100\n",
    "ROE"
   ]
  },
  {
   "cell_type": "code",
   "execution_count": 59,
   "metadata": {
    "collapsed": false
   },
   "outputs": [
    {
     "data": {
      "text/plain": [
       "array([ 0.80812818,  0.7994776 ,  0.69116712,  0.66219856,  0.63929708])"
      ]
     },
     "execution_count": 59,
     "metadata": {},
     "output_type": "execute_result"
    }
   ],
   "source": [
    "#有利子負債平均利子率:企業の平均調達利回り，利子率が低い企業は経営内容が良好で信用力が高いと言える\n",
    "Shiharai_risoku=np.array([517, 453, 413, 413, 422])\n",
    "Wari_hiki_jyouto_tegata=np.array([5897+3999, 5365+3687, 5906+3916, 6742+4169, 7070+4414])\n",
    "Yurishi_Fusai_zandaka=np.array([54079, 47610, 49932, 51457, 54526])\n",
    "A=Yurishi_Fusai_zandaka+Wari_hiki_jyouto_tegata\n",
    "YurishiFusai_heikin=Shiharai_risoku/A*100\n",
    "YurishiFusai_heikin"
   ]
  },
  {
   "cell_type": "code",
   "execution_count": 60,
   "metadata": {
    "collapsed": false
   },
   "outputs": [
    {
     "data": {
      "text/plain": [
       "array([ 0.90519332,  0.90148701,  0.93774148,  1.00018311,  1.02364759])"
      ]
     },
     "execution_count": 60,
     "metadata": {},
     "output_type": "execute_result"
    }
   ],
   "source": [
    "#使用総資産回転率：１年間に売り上げによって総資産が何回入れ替わったかを表す指標\n",
    "Sou_Shisan=np.array([92388, 84263, 88518, 92838, 96162])\n",
    "Kaiten=Uriage_Taka/Sou_Shisan\n",
    "Kaiten"
   ]
  },
  {
   "cell_type": "markdown",
   "metadata": {},
   "source": [
    "# コスト構造分析"
   ]
  },
  {
   "cell_type": "code",
   "execution_count": 61,
   "metadata": {
    "collapsed": false
   },
   "outputs": [
    {
     "data": {
      "text/plain": [
       "array([ 19.86631432,  19.96656223,  22.26197791,  21.95573744,  20.94355724])"
      ]
     },
     "execution_count": 61,
     "metadata": {},
     "output_type": "execute_result"
    }
   ],
   "source": [
    "#粗利率\n",
    "\n",
    "Uriage_sourieki=np.array([16614, 15167, 18479, 20387, 20616])\n",
    "Uriage_Taka=np.array([83629, 75962, 83007, 92855, 98436])\n",
    "Arari_ritsu=Uriage_sourieki/Uriage_Taka*100\n",
    "Arari_ritsu"
   ]
  },
  {
   "cell_type": "code",
   "execution_count": 62,
   "metadata": {
    "collapsed": false
   },
   "outputs": [
    {
     "data": {
      "text/plain": [
       "array([ 19.34855134,  20.2140544 ,  18.82853253,  17.61348339,  17.3523914 ])"
      ]
     },
     "execution_count": 62,
     "metadata": {},
     "output_type": "execute_result"
    }
   ],
   "source": [
    "#販管費率\n",
    "Hankan_Hi=np.array([16181, 15355, 15629, 16355, 17081])\n",
    "\n",
    "Hankan_Hi_ritsu=Hankan_Hi/Uriage_Taka*100\n",
    "Hankan_Hi_ritsu"
   ]
  },
  {
   "cell_type": "code",
   "execution_count": 63,
   "metadata": {
    "collapsed": false
   },
   "outputs": [
    {
     "data": {
      "text/plain": [
       "array([ 0.51776298, -0.24749217,  3.43344537,  4.34225405,  3.59116583])"
      ]
     },
     "execution_count": 63,
     "metadata": {},
     "output_type": "execute_result"
    }
   ],
   "source": [
    "#営業利益率\n",
    "Eigyou_Rieki_ritsu=Eigyou_Rieki/Uriage_Taka*100\n",
    "Eigyou_Rieki_ritsu"
   ]
  },
  {
   "cell_type": "markdown",
   "metadata": {},
   "source": [
    "# 効率性分析"
   ]
  },
  {
   "cell_type": "code",
   "execution_count": 64,
   "metadata": {
    "collapsed": true
   },
   "outputs": [],
   "source": [
    "Uriage_Saiken=np.array([9408+18398, 8609+16775, 9269+18262, 10446+20118, 10992+21328]) #受け取り手形\n",
    "Tanaoroshi=np.array([10218, 8908, 10041, 11687, 13591])\n",
    "Kaiire_Saimu=np.array([12405+4530, 11204+3988, 12313+4427, 13851+5107, 14519+5332])\n",
    "Gessyou=Uriage_Taka/12\n",
    "Kotei_shisan=np.array([41263, 39751, 38546, 37733, 36758])\n"
   ]
  },
  {
   "cell_type": "code",
   "execution_count": 65,
   "metadata": {
    "collapsed": false
   },
   "outputs": [
    {
     "data": {
      "text/plain": [
       "array([ 13.25683674,  13.31133988,  12.79670389,  11.99780303,  11.72278435])"
      ]
     },
     "execution_count": 65,
     "metadata": {},
     "output_type": "execute_result"
    }
   ],
   "source": [
    "#総資産回転期間\n",
    "Sou_Shisan/Gessyou"
   ]
  },
  {
   "cell_type": "code",
   "execution_count": 66,
   "metadata": {
    "collapsed": false
   },
   "outputs": [
    {
     "data": {
      "text/plain": [
       "array([ 5.92086477,  6.27961349,  5.5724457 ,  4.87637715,  4.48104352])"
      ]
     },
     "execution_count": 66,
     "metadata": {},
     "output_type": "execute_result"
    }
   ],
   "source": [
    "#固定資産回転期間\n",
    "Kotei_shisan/Gessyou"
   ]
  },
  {
   "cell_type": "code",
   "execution_count": 67,
   "metadata": {
    "collapsed": false
   },
   "outputs": [
    {
     "data": {
      "text/plain": [
       "array([ 3.02607947,  3.01729812,  3.01160143,  3.01024177,  3.1768865 ])"
      ]
     },
     "execution_count": 67,
     "metadata": {},
     "output_type": "execute_result"
    }
   ],
   "source": [
    "#運転資金回転期間(収支ズレ)\n",
    "(Uriage_Saiken+Tanaoroshi-Kaiire_Saimu)/Gessyou"
   ]
  },
  {
   "cell_type": "markdown",
   "metadata": {},
   "source": [
    "# ソリューション案"
   ]
  },
  {
   "cell_type": "code",
   "execution_count": 72,
   "metadata": {
    "collapsed": false
   },
   "outputs": [
    {
     "name": "stdout",
     "output_type": "stream",
     "text": [
      "上海企業価値 44\n",
      "バンコク企業価値 11.8\n",
      "河村企業価値 12.600000000000001\n"
     ]
    }
   ],
   "source": [
    "#プランA:鋳物部品メーカーの完全子会社化\n",
    "\n",
    "EBITA_shanghai=7\n",
    "EBITA_bangkok=2.4\n",
    "EBITA_kawamura=6.8\n",
    "\n",
    "NetYurishi_shanghai=5\n",
    "NetYurishi_bangkok=5\n",
    "NetYurishi_kawamura=35\n",
    "\n",
    "print(\"上海企業価値:\", 7*EBITA_shanghai-NetYurishi_shanghai) \n",
    "print(\"バンコク企業価値:\", 7*EBITA_bangkok-NetYurishi_bangkok) \n",
    "print(\"河村企業価値:\", 7*EBITA_kawamura-NetYurishi_kawamura)"
   ]
  },
  {
   "cell_type": "code",
   "execution_count": 74,
   "metadata": {
    "collapsed": true
   },
   "outputs": [],
   "source": [
    "#西川精密工業との事業スワップに際するDD\n",
    "UriageTaka_nishi=np.array([42906, 35058, 38244, 45870, 53112])\n",
    "Genkashokyaku_nishi=np.array([1452, 1398, 1248, 1290, 1224])\n",
    "UriageJyunrieki_nishi=np.array([4440,  2088, 3882, 6264, 8652])\n",
    "Shisangoukei_nishi=np.array([51576, 45876, 47106, 50496, 53718])"
   ]
  },
  {
   "cell_type": "code",
   "execution_count": 77,
   "metadata": {
    "collapsed": false
   },
   "outputs": [
    {
     "name": "stdout",
     "output_type": "stream",
     "text": [
      "粗利率: [ 10.34820305   5.9558446   10.15061186  13.6559843   16.29010393]\n",
      "減価償却費率: [ 3.38414208  3.98767756  3.26325698  2.81229562  2.30456394]\n"
     ]
    }
   ],
   "source": [
    "#コスト構造\n",
    "print(\"粗利率:\", UriageJyunrieki_nishi/UriageTaka_nishi*100)\n",
    "print(\"減価償却費率:\", Genkashokyaku_nishi/UriageTaka_nishi*100)"
   ]
  },
  {
   "cell_type": "code",
   "execution_count": null,
   "metadata": {
    "collapsed": true
   },
   "outputs": [],
   "source": []
  }
 ],
 "metadata": {
  "anaconda-cloud": {},
  "kernelspec": {
   "display_name": "Python [conda root]",
   "language": "python",
   "name": "conda-root-py"
  },
  "language_info": {
   "codemirror_mode": {
    "name": "ipython",
    "version": 3
   },
   "file_extension": ".py",
   "mimetype": "text/x-python",
   "name": "python",
   "nbconvert_exporter": "python",
   "pygments_lexer": "ipython3",
   "version": "3.5.2"
  }
 },
 "nbformat": 4,
 "nbformat_minor": 1
}
