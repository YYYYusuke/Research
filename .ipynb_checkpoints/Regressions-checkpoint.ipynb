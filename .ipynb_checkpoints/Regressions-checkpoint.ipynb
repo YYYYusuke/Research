{
 "cells": [
  {
   "cell_type": "code",
   "execution_count": 2,
   "metadata": {
    "collapsed": false,
    "scrolled": true
   },
   "outputs": [
    {
     "name": "stderr",
     "output_type": "stream",
     "text": [
      "/Users/user/.pyenv/versions/anaconda3-4.2.0/lib/python3.5/site-packages/sklearn/cross_validation.py:44: DeprecationWarning: This module was deprecated in version 0.18 in favor of the model_selection module into which all the refactored classes and functions are moved. Also note that the interface of the new CV iterators are different from that of this module. This module will be removed in 0.20.\n",
      "  \"This module will be removed in 0.20.\", DeprecationWarning)\n",
      "/Users/user/.pyenv/versions/anaconda3-4.2.0/lib/python3.5/site-packages/sklearn/grid_search.py:43: DeprecationWarning: This module was deprecated in version 0.18 in favor of the model_selection module into which all the refactored classes and functions are moved. This module will be removed in 0.20.\n",
      "  DeprecationWarning)\n"
     ]
    }
   ],
   "source": [
    "import pandas as pd \n",
    "import numpy as np\n",
    "import os,csv\n",
    "import matplotlib.pyplot as plt\n",
    "from sklearn import linear_model, preprocessing, cross_validation, svm\n",
    "from sklearn.svm import SVR\n",
    "from sklearn.grid_search import GridSearchCV\n",
    "import csv\n",
    "from sklearn.svm import SVC\n",
    "import seaborn as sns\n",
    "#from PIL import Image1"
   ]
  },
  {
   "cell_type": "code",
   "execution_count": 3,
   "metadata": {
    "collapsed": false
   },
   "outputs": [],
   "source": [
    "new_dfs=pd.read_csv('/Users/user/Research/output_csvs/new_dfs.csv', index_col=0)"
   ]
  },
  {
   "cell_type": "markdown",
   "metadata": {},
   "source": [
    "# Linear Regression"
   ]
  },
  {
   "cell_type": "code",
   "execution_count": 8,
   "metadata": {
    "collapsed": false,
    "scrolled": true
   },
   "outputs": [
    {
     "data": {
      "text/plain": [
       "array([ 7, 11,  3, 10,  9, 23])"
      ]
     },
     "execution_count": 8,
     "metadata": {},
     "output_type": "execute_result"
    }
   ],
   "source": [
    "clf = linear_model.LinearRegression()\n",
    "#INPUT\n",
    "CORES=new_dfs.iloc[:,0:6]\n",
    "\n",
    "INP_cores=[]\n",
    "\n",
    "for i in range(320):\n",
    "    tmp=np.array(CORES.iloc[i])\n",
    "    INP_cores.append(tmp)\n",
    "    \n",
    "input_data=np.array(INP_cores)\n",
    "input_data[0]\n"
   ]
  },
  {
   "cell_type": "code",
   "execution_count": null,
   "metadata": {
    "collapsed": false
   },
   "outputs": [],
   "source": [
    "clf = linear_model.LinearRegression()\n",
    "INP_cores\n",
    "#INPUT\n",
    "CORES=new_dfs.iloc[:,0:6]\n",
    "\n",
    "X_temp= new_dfs.drop(\"CRAC_set\", axis=1)\n",
    "X_temp= X_temp.drop(\"CRAC_out\", axis=1)\n",
    "X_temp= X_temp.drop(\"time\", axis=1)\n",
    "Y_temp=X_temp.drop (\"temp1\", axis=1)\n",
    "Y_temp=Y_temp.drop(\"temp2\", axis=1)\n",
    "Y_temp=Y_temp.drop(\"temp3\", axis=1)\n",
    "#X_temp=X_temp.as_matrix()\n",
    "Y_temp.head()"
   ]
  },
  {
   "cell_type": "code",
   "execution_count": null,
   "metadata": {
    "collapsed": false
   },
   "outputs": [],
   "source": [
    "# 説明変数に CPU_cores を利用\n",
    "X = Y_temp.as_matrix()\n",
    "#X=INP_cores\n",
    "        \n",
    "# 目的変数に 排出温度を利用\n",
    "#Y = wine['alcohol'].as_matrix()\n",
    "Y= X_temp[\"temp3\"].as_matrix()\n",
    "        \n",
    "# 予測モデルを作成\n",
    "clf.fit(X, Y)\n",
    " \n",
    "# 回帰係数\n",
    "print(clf.coef_)\n",
    "\n",
    "# 決定係数\n",
    "print(clf.score(X, Y))\n",
    "\n",
    "# 偏回帰係数\n",
    "print(pd.DataFrame({\"Name\":Y_temp.columns,\n",
    "                   \"Coefficients\":clf.coef_}).sort_values(by='Coefficients') )\n",
    " \n",
    "# 切片 (誤差)\n",
    "print(clf.intercept_)"
   ]
  },
  {
   "cell_type": "code",
   "execution_count": null,
   "metadata": {
    "collapsed": false
   },
   "outputs": [],
   "source": [
    "Predicted_temperature=[]\n",
    "\n",
    "for i in range(len(X)):\n",
    "    g=clf.predict(X[i])\n",
    "    Predicted_temperature.append(g)"
   ]
  },
  {
   "cell_type": "code",
   "execution_count": null,
   "metadata": {
    "collapsed": false
   },
   "outputs": [],
   "source": [
    "sns.set\n",
    "cases=[]\n",
    "for i in range(len(Y)):\n",
    "    cases.append(i)\n",
    "    \n",
    "plt.scatter(cases, Predicted_temperature, label=\"Predicted temperature\")\n",
    "plt.scatter(cases, Y, c=\"yellow\", label=\"Measured temperature\")\n",
    "plt.xlabel(\"cases\") \n",
    "plt.ylabel(\"temperature\")\n",
    "plt.title('Temperature1 Linear Regression prediction')\n",
    "\n",
    "plt.legend()\n",
    "plt.show()"
   ]
  },
  {
   "cell_type": "code",
   "execution_count": null,
   "metadata": {
    "collapsed": false
   },
   "outputs": [],
   "source": [
    "Error=[]\n",
    "Error_abs=[]\n",
    "for i in range(len(Y)):    \n",
    "    e=Predicted_temperature[i]-Y[i]\n",
    "    Error.append(e)\n",
    "    f=abs(e)\n",
    "    Error_abs.append(f)\n",
    "\n",
    "#Errorの平均値   \n",
    "RMS_LR=np.mean((Predicted_temperature - Y) ** 2)\n",
    "print(\"2乗誤差の平均値:\", RMS_LR)"
   ]
  },
  {
   "cell_type": "code",
   "execution_count": null,
   "metadata": {
    "collapsed": false
   },
   "outputs": [],
   "source": [
    "plt.scatter(cases, Error, c=\"red\")\n",
    "plt.xlabel(\"cases\") \n",
    "plt.ylabel(\"Temperature()\")\n",
    "plt.title('RMS_LR(temperature1)')\n",
    "plt.legend()\n",
    "plt.show()"
   ]
  },
  {
   "cell_type": "markdown",
   "metadata": {},
   "source": [
    "# Ridge Regression"
   ]
  },
  {
   "cell_type": "code",
   "execution_count": 4,
   "metadata": {
    "collapsed": false
   },
   "outputs": [
    {
     "name": "stderr",
     "output_type": "stream",
     "text": [
      "/Users/user/.pyenv/versions/anaconda3-4.2.0/lib/python3.5/site-packages/ipykernel/__main__.py:10: FutureWarning: Method .as_matrix will be removed in a future version. Use .values instead.\n",
      "/Users/user/.pyenv/versions/anaconda3-4.2.0/lib/python3.5/site-packages/ipykernel/__main__.py:15: FutureWarning: Method .as_matrix will be removed in a future version. Use .values instead.\n"
     ]
    }
   ],
   "source": [
    "X_temp= new_dfs.drop(\"CRAC_set\", axis=1)\n",
    "X_temp= X_temp.drop(\"CRAC_out\", axis=1)\n",
    "X_temp= X_temp.drop(\"time\", axis=1)\n",
    "Y_temp=X_temp.drop (\"temp1\", axis=1)\n",
    "Y_temp=Y_temp.drop(\"temp2\", axis=1)\n",
    "Y_temp=Y_temp.drop(\"temp3\", axis=1)\n",
    "#X_temp=X_temp.as_matrix()\n",
    "\n",
    "# 説明変数に CPU_cores を利用\n",
    "X = Y_temp.as_matrix()\n",
    "#X=INP_cores\n",
    "        \n",
    "# 目的変数に 排出温度を利用\n",
    "#Y = wine['alcohol'].as_matrix()\n",
    "Y= X_temp[\"temp3\"].as_matrix()"
   ]
  },
  {
   "cell_type": "code",
   "execution_count": 5,
   "metadata": {
    "collapsed": false
   },
   "outputs": [
    {
     "name": "stdout",
     "output_type": "stream",
     "text": [
      "\n",
      "Ridgeでの係数\n",
      "35.1606958501\n",
      "[-0.05865414  0.010027    0.11918982  0.07847942 -0.16878254  0.05583966\n",
      "  0.03763233 -0.029457   -0.0391791  -0.03473554 -0.10861832 -0.01605057\n",
      " -0.03689002  0.01362345  0.03924666 -0.14777225 -0.02590365  0.05447254]\n",
      "\n",
      "「Ridgeの平均2乗誤差」\n",
      "0.325889821003\n"
     ]
    }
   ],
   "source": [
    "# 3：データの整形-------------------------------------------------------\n",
    "sc=preprocessing.StandardScaler()\n",
    "sc.fit(X)\n",
    "X=sc.transform(X)\n",
    "\n",
    "# 4：学習データとテストデータに分割する-------------------------------\n",
    "X_train, X_test, Y_train, Y_test = cross_validation.train_test_split(X, Y, test_size=0.2, random_state=0)\n",
    "#X_train は256 X_testは64.   Y_trainは256 Y_testは64\n",
    " \n",
    "# 5：SGD Regressorを適用する-------------------------------------------\n",
    "'''\n",
    "clf = linear_model.SGDRegressor(max_iter=1000)\n",
    "clf.fit(X_train, Y_train)\n",
    " \n",
    "print(\"SGDでの係数\")\n",
    "print(clf.intercept_) \n",
    "print(clf.coef_) \n",
    "''' \n",
    "#6：Ridge Regressorを適用する-------------------------------------------\n",
    "clf_ridge= linear_model.Ridge(alpha=1.0)\n",
    "clf_ridge.fit(X_train, Y_train)\n",
    " \n",
    "print(\"\\nRidgeでの係数\")\n",
    "print(clf_ridge.intercept_) \n",
    "print(clf_ridge.coef_) \n",
    " \n",
    "#7：テストデータでの誤差を比較する-------------------------------------------\n",
    "#Y_pred=clf.predict(X_test)\n",
    "Y_ridge_pred=clf_ridge.predict(X_test)\n",
    "print(\"\\n「Ridgeの平均2乗誤差」\")\n",
    "#RMS=np.mean((Y_pred - Y_test) ** 2)\n",
    "RMS_ridge=np.sqrt(np.mean((Y_ridge_pred - Y_test) ** 2))\n",
    "#print(RMS)\n",
    "print(RMS_ridge)"
   ]
  },
  {
   "cell_type": "code",
   "execution_count": 6,
   "metadata": {
    "collapsed": false
   },
   "outputs": [
    {
     "data": {
      "image/png": "[encoded data removed]",
      "text/plain": [
       "<matplotlib.figure.Figure at 0x11907bba8>"
      ]
     },
     "metadata": {},
     "output_type": "display_data"
    }
   ],
   "source": [
    "#Temperature1\n",
    "\n",
    "cases=[]\n",
    "for i in range(256,320):\n",
    "    cases.append(i)\n",
    "    \n",
    "plt.scatter(cases, Y_ridge_pred, label=\"Predicted Values\")\n",
    "plt.scatter(cases, Y[256:320], c=\"yellow\", label=\"Measured Values\")\n",
    "plt.xlabel(\"cases\") \n",
    "plt.ylabel(\"temperature\")\n",
    "plt.title('Temperature1 Ridge Regression prediction')\n",
    "plt.legend()\n",
    "plt.show()"
   ]
  },
  {
   "cell_type": "code",
   "execution_count": 7,
   "metadata": {
    "collapsed": false
   },
   "outputs": [
    {
     "data": {
      "image/png": "[encoded data removed]",
      "text/plain": [
       "<matplotlib.figure.Figure at 0x11917e5c0>"
      ]
     },
     "metadata": {},
     "output_type": "display_data"
    }
   ],
   "source": [
    "#Temperature2\n",
    "\n",
    "cases=[]\n",
    "for i in range(256,320):\n",
    "    cases.append(i)\n",
    "    \n",
    "plt.scatter(cases, Y_ridge_pred, label=\"Predictied Values\")\n",
    "plt.scatter(cases, Y[256:320], c=\"yellow\", label=\"Measured Values\")\n",
    "plt.xlabel(\"cases\") \n",
    "plt.ylabel(\"temperature\")\n",
    "plt.title('Temperature2 Ridge Regression prediction')\n",
    "plt.legend()\n",
    "plt.show()"
   ]
  },
  {
   "cell_type": "code",
   "execution_count": null,
   "metadata": {
    "collapsed": false
   },
   "outputs": [],
   "source": [
    "#Temperature3\n",
    "\n",
    "cases=[]\n",
    "for i in range(256,320):\n",
    "    cases.append(i)\n",
    "    \n",
    "plt.scatter(cases, Y_ridge_pred, label=\"Predited Values\")\n",
    "plt.scatter(cases, Y[256:320], c=\"yellow\", label=\"Measured Values\")\n",
    "plt.xlabel(\"cases\") \n",
    "plt.ylabel(\"temperature\")\n",
    "plt.title('Temperature3 Ridge Regression prediction')\n",
    "plt.legend()\n",
    "plt.show()"
   ]
  },
  {
   "cell_type": "markdown",
   "metadata": {
    "collapsed": true
   },
   "source": [
    "# SVR(linear)"
   ]
  },
  {
   "cell_type": "code",
   "execution_count": null,
   "metadata": {
    "collapsed": false
   },
   "outputs": [],
   "source": [
    "X_temp= new_dfs.drop(\"CRAC_set\", axis=1)\n",
    "X_temp= X_temp.drop(\"CRAC_out\", axis=1)\n",
    "X_temp= X_temp.drop(\"time\", axis=1)\n",
    "Y_temp=X_temp.drop (\"temp1\", axis=1)\n",
    "Y_temp=Y_temp.drop(\"temp2\", axis=1)\n",
    "Y_temp=Y_temp.drop(\"temp3\", axis=1)\n",
    "#X_temp=X_temp.as_matrix()\n",
    "\n",
    "# 説明変数に CPU_cores を利用\n",
    "X = Y_temp.as_matrix()\n",
    "#X=INP_cores\n",
    "        \n",
    "# 目的変数に 排出温度を利用\n",
    "#Y = wine['alcohol'].as_matrix()\n",
    "Y= X_temp[\"temp3\"].as_matrix()"
   ]
  },
  {
   "cell_type": "code",
   "execution_count": null,
   "metadata": {
    "collapsed": true
   },
   "outputs": [],
   "source": [
    "# 3：データの整形-------------------------------------------------------\n",
    "sc=preprocessing.StandardScaler()\n",
    "sc.fit(X)\n",
    "X=sc.transform(X)\n",
    "\n",
    "# 4：学習データとテストデータに分割する-------------------------------\n",
    "X_train, X_test, Y_train, Y_test = cross_validation.train_test_split(X, Y, test_size=0.2, random_state=0)\n",
    "#X_train は256 X_testは64.   Y_trainは256 Y_testは64"
   ]
  },
  {
   "cell_type": "code",
   "execution_count": null,
   "metadata": {
    "collapsed": false
   },
   "outputs": [],
   "source": [
    "#SVR linear Regressorを適用する-------------------------------------------\n",
    "#clf_svr = svm.SVR(kernel='linear', C=1e3, epsilon=2.0)\n",
    "clf_svr = svm.SVR(kernel='linear')\n",
    "clf_svr.fit(X_train, Y_train)\n"
   ]
  },
  {
   "cell_type": "code",
   "execution_count": null,
   "metadata": {
    "collapsed": false
   },
   "outputs": [],
   "source": [
    "# 8：誤差-------------------------------------------------\n",
    "Y_pred_svr=clf_svr.predict(X_test)\n",
    "print(\"「SVRの平均二乗誤差」\")\n",
    "RMS_svr=np.sqrt(np.mean((Y_pred_svr - Y_test) ** 2))\n",
    "print(RMS_svr)"
   ]
  },
  {
   "cell_type": "code",
   "execution_count": null,
   "metadata": {
    "collapsed": false
   },
   "outputs": [],
   "source": [
    "#Temperature1\n",
    "cases=[]\n",
    "for i in range(256,320):\n",
    "    cases.append(i)\n",
    "    \n",
    "plt.scatter(cases, Y_pred_svr, label=\"Predicted Values\")\n",
    "plt.scatter(cases, Y[256:320], c=\"yellow\", label=\"Measured Values\")\n",
    "plt.xlabel(\"cases\") \n",
    "plt.ylabel(\"temperature\")\n",
    "plt.title('Temperature1 SVR(linear) prediction')\n",
    "plt.legend()\n",
    "plt.show()"
   ]
  },
  {
   "cell_type": "markdown",
   "metadata": {},
   "source": [
    "# SVR (rbf)"
   ]
  },
  {
   "cell_type": "code",
   "execution_count": null,
   "metadata": {
    "collapsed": false
   },
   "outputs": [],
   "source": [
    "#SVR linear Regressor (RBF) を適用する-------------------------------------------\n",
    "clf_svr = svm.SVR(kernel='rbf', C=1000, gamma=0.001)\n",
    "#clf_svr = svm.SVR(kernel='rbf', C=1000, epsilon=2.0, gamma=0.001)\n",
    "clf_svr.fit(X_train, Y_train)"
   ]
  },
  {
   "cell_type": "code",
   "execution_count": null,
   "metadata": {
    "collapsed": false
   },
   "outputs": [],
   "source": [
    "# 8：誤差-------------------------------------------------\n",
    "Y_pred_svr_rbf=clf_svr.predict(X_test)\n",
    "print(\"「SVRの平均二乗誤差」\")\n",
    "RMS_svr=np.sqrt(np.mean((Y_pred_svr - Y_test) ** 2))\n",
    "print(RMS_svr)"
   ]
  },
  {
   "cell_type": "code",
   "execution_count": null,
   "metadata": {
    "collapsed": false
   },
   "outputs": [],
   "source": [
    "#Temperature1\n",
    "cases=[]\n",
    "for i in range(256,320):\n",
    "    cases.append(i)\n",
    "    \n",
    "plt.scatter(cases, Y_pred_svr_rbf, label=\"Predicted Values\")\n",
    "plt.scatter(cases, Y[256:320], c=\"yellow\", label=\"Measured Values\")\n",
    "plt.xlabel(\"cases\") \n",
    "plt.ylabel(\"temperature\")\n",
    "plt.title('Temperature1 SVR(rbf) prediction')\n",
    "plt.legend()\n",
    "plt.show()"
   ]
  },
  {
   "cell_type": "markdown",
   "metadata": {},
   "source": [
    "# Parameters optimization via Grid Search"
   ]
  },
  {
   "cell_type": "code",
   "execution_count": null,
   "metadata": {
    "collapsed": true
   },
   "outputs": [],
   "source": [
    "X_temp= new_dfs.drop(\"CRAC_set\", axis=1)\n",
    "X_temp= X_temp.drop(\"CRAC_out\", axis=1)\n",
    "X_temp= X_temp.drop(\"time\", axis=1)\n",
    "Y_temp=X_temp.drop (\"temp1\", axis=1)\n",
    "Y_temp=Y_temp.drop(\"temp2\", axis=1)\n",
    "Y_temp=Y_temp.drop(\"temp3\", axis=1)\n",
    "#X_temp=X_temp.as_matrix()\n",
    "\n",
    "# 説明変数に CPU_cores を利用\n",
    "#X = Y_temp.as_matrix()\n",
    "X=list(Y_temp.values)\n",
    "\n",
    "#Y_train = np.asarray(train['P1'], dtype=\"|S6\")\n",
    "\n",
    "\n",
    "#X=INP_cores\n",
    "        \n",
    "# 目的変数に 排出温度を利用\n",
    "#Y = wine['alcohol'].as_matrix()\n",
    "#Y= X_temp[\"temp1\"].as_matrix()\n",
    "Y = list( X_temp.temp1.values)\n",
    "Y= np.array(Y)\n",
    "\n",
    "\n",
    "# データの整形-------------------------------------------------------\n",
    "sc=preprocessing.StandardScaler()\n",
    "sc.fit(X)\n",
    "X=sc.transform(X)\n",
    "#X=X.tolist()\n",
    "\n",
    "\n",
    "#：学習データとテストデータに分割する-------------------------------\n",
    "X_train, X_test, Y_train, Y_test = cross_validation.train_test_split(X, Y, test_size=0.2, random_state=0)\n",
    "#X_train は256 X_testは64.   Y_trainは256 Y_testは64"
   ]
  },
  {
   "cell_type": "code",
   "execution_count": null,
   "metadata": {
    "collapsed": true
   },
   "outputs": [],
   "source": [
    "'''\n",
    "tuned_parameters = [\n",
    "    {'C': [1, 10, 100, 1000], 'kernel': ['linear']},\n",
    "    {'C': [1, 10, 100, 1000], 'kernel': ['rbf'], 'gamma': [0.001, 0.0001]},\n",
    "    {'C': [1, 10, 100, 1000], 'kernel': ['poly'], 'degree': [2, 3, 4], 'gamma': [0.001, 0.0001]},\n",
    "    {'C': [1, 10, 100, 1000], 'kernel': ['sigmoid'], 'gamma': [0.001, 0.0001]}\n",
    "    ]\n",
    "\n",
    "\n",
    "tuned_parameters = [{'kernel': ['rbf'], 'gamma': [1e-3, 1e-4],\n",
    "                     'C': [1, 10, 100, 1000]},\n",
    "                    {'kernel': ['linear'], 'C': [1, 10, 100, 1000]}]\n",
    "\n",
    "'''\n",
    "tuned_parameters={\"C\":[10**i for i in range(-2,4)]}"
   ]
  },
  {
   "cell_type": "code",
   "execution_count": null,
   "metadata": {
    "collapsed": true
   },
   "outputs": [],
   "source": [
    "score = 'f1'\n",
    "clf = GridSearchCV(\n",
    "    SVR(), # 識別器\n",
    "    tuned_parameters, # 最適化したいパラメータセット \n",
    "    cv=5, # 交差検定の回数\n",
    "    scoring='%s_weighted' % score ) # モデルの評価関数の指定"
   ]
  },
  {
   "cell_type": "code",
   "execution_count": null,
   "metadata": {
    "collapsed": false
   },
   "outputs": [],
   "source": [
    "scores = ['accuracy', 'precision', 'recall']\n",
    "\n",
    "for score in scores:\n",
    "    print('\\n' + '='*50)\n",
    "    print(score)\n",
    "    print('='*50)\n",
    "\n",
    "    clf = GridSearchCV(SVR(), tuned_parameters, cv=5, scoring=score, n_jobs=-1)\n",
    "    clf.fit(X_train, Y_train)\n",
    "\n",
    "    print(\"\\n+ ベストパラメータ:\\n\")\n",
    "    print(clf.best_estimator_)\n",
    "\n",
    "    print(\"\\n+ トレーニングデータでCVした時の平均スコア:\\n\")\n",
    "    for params, mean_score, all_scores in clf.grid_scores_:\n",
    "        print (\"{:.3f} (+/- {:.3f}) for {}\".format(mean_score, all_scores.std() / 2, params))\n",
    "\n",
    "    print (\"\\n+ テストデータでの識別結果:\\n\")\n",
    "    y_true, y_pred = y_test, clf.predict(X_test)\n",
    "    print (classification_report(y_true, y_pred))"
   ]
  },
  {
   "cell_type": "code",
   "execution_count": null,
   "metadata": {
    "collapsed": true
   },
   "outputs": [],
   "source": [
    "X_train=X_train.tolist()"
   ]
  },
  {
   "cell_type": "code",
   "execution_count": null,
   "metadata": {
    "collapsed": false
   },
   "outputs": [],
   "source": [
    "X_train"
   ]
  },
  {
   "cell_type": "code",
   "execution_count": null,
   "metadata": {
    "collapsed": false
   },
   "outputs": [],
   "source": [
    "Y_train[0].astype(long)"
   ]
  },
  {
   "cell_type": "code",
   "execution_count": null,
   "metadata": {
    "collapsed": true
   },
   "outputs": [],
   "source": [
    "diparameter={\"C\":[10**i for i in range(-2,4)]}\n",
    "diparameter= [\n",
    "    {'C': [1, 10, 100, 1000], 'kernel': ['linear']},\n",
    "    {'C': [1, 10, 100, 1000], 'kernel': ['rbf'], 'gamma': [0.001, 0.0001]},\n",
    "    {'C': [1, 10, 100, 1000], 'kernel': ['poly'], 'degree': [2, 3, 4], 'gamma': [0.001, 0.0001]},\n",
    "    {'C': [1, 10, 100, 1000], 'kernel': ['sigmoid'], 'gamma': [0.001, 0.0001]}\n",
    "    ]\n",
    "licv=GridSearchCV(SVR(),param_grid=diparameter,cv=5)\n",
    "licv.fit(X_train, Y_train)"
   ]
  },
  {
   "cell_type": "code",
   "execution_count": null,
   "metadata": {
    "collapsed": true
   },
   "outputs": [],
   "source": [
    "licv.best_params_"
   ]
  },
  {
   "cell_type": "code",
   "execution_count": null,
   "metadata": {
    "collapsed": true
   },
   "outputs": [],
   "source": [
    "clf.grid_scores_"
   ]
  }
 ],
 "metadata": {
  "anaconda-cloud": {},
  "kernelspec": {
   "display_name": "Python [conda root]",
   "language": "python",
   "name": "conda-root-py"
  },
  "language_info": {
   "codemirror_mode": {
    "name": "ipython",
    "version": 3
   },
   "file_extension": ".py",
   "mimetype": "text/x-python",
   "name": "python",
   "nbconvert_exporter": "python",
   "pygments_lexer": "ipython3",
   "version": "3.5.2"
  }
 },
 "nbformat": 4,
 "nbformat_minor": 1
}
